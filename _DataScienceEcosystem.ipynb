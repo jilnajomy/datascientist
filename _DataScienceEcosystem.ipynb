{
 "cells": [
  {
   "cell_type": "markdown",
   "id": "0c9b2a60-876b-4d6d-a041-784bfb61cdae",
   "metadata": {},
   "source": [
    "# Datascience tools and ecosystem"
   ]
  },
  {
   "cell_type": "markdown",
   "id": "3c9b1cf8-b29c-409e-be4d-f40a5c853208",
   "metadata": {},
   "source": [
    "## In this notebook, data science tools and ecosystem are summarized"
   ]
  },
  {
   "cell_type": "markdown",
   "id": "7698d4b5-da39-4db3-8fe7-f35ea1bf7da3",
   "metadata": {},
   "source": [
    "**Objectives:**\n",
    "* List popular languages that data scientist uses\n",
    "* List commonly used libraries by data scientist\n",
    "* Evaluating arithematic expressions using Python"
   ]
  },
  {
   "cell_type": "markdown",
   "id": "c4a801fa-d5f3-4055-9c99-f9b49af8cb23",
   "metadata": {},
   "source": [
    "### Some of the popular languages that data scientists  uses are:"
   ]
  },
  {
   "cell_type": "markdown",
   "id": "91b96ce3-67e6-443c-bf75-07acc67ce8f5",
   "metadata": {},
   "source": [
    "* Python\n",
    "* R\n",
    "* Scala"
   ]
  },
  {
   "cell_type": "markdown",
   "id": "a82f4775-d0ab-4504-9074-55084ae91d36",
   "metadata": {},
   "source": [
    "### some of the commonly used libraries used by data scientists include:"
   ]
  },
  {
   "cell_type": "markdown",
   "id": "6e1ce499-44ff-4f1b-a68b-93460cdd987a",
   "metadata": {},
   "source": [
    "* Pandas\n",
    "* SciPy\n",
    "* NumPy"
   ]
  },
  {
   "cell_type": "markdown",
   "id": "c00c0a14-711b-4a41-afa8-680baf75282f",
   "metadata": {},
   "source": [
    "|data science tools|\n",
    "--------------------\n",
    "|Aparche spark|\n",
    "|tensor Flow|\n",
    "|Jupyter notebook|"
   ]
  },
  {
   "cell_type": "markdown",
   "id": "60891e51-5111-49ba-8f5e-541a90b953a3",
   "metadata": {},
   "source": [
    "### Below are a few examples of evaluating arithmetic expressions in Python "
   ]
  },
  {
   "cell_type": "markdown",
   "id": "3ca85925-967b-48d7-9e7f-c8c6fe5495d1",
   "metadata": {},
   "source": [
    "### This a simple arithmetic expression to multiply then add integers"
   ]
  },
  {
   "cell_type": "code",
   "execution_count": 3,
   "id": "a42f676d-08d4-4d49-aec5-473f39af28dd",
   "metadata": {},
   "outputs": [
    {
     "data": {
      "text/plain": [
       "17"
      ]
     },
     "execution_count": 3,
     "metadata": {},
     "output_type": "execute_result"
    }
   ],
   "source": [
    "(3*4)+5"
   ]
  },
  {
   "cell_type": "markdown",
   "id": "df53605a-ef39-472a-9584-f9ac7cb9f342",
   "metadata": {},
   "source": [
    "### This will convert 200 minutes to hours by dividing by 60"
   ]
  },
  {
   "cell_type": "code",
   "execution_count": 4,
   "id": "eb171752-0875-4cdb-a10d-095eb8a43a41",
   "metadata": {},
   "outputs": [
    {
     "name": "stdout",
     "output_type": "stream",
     "text": [
      "200 is equal to 3.3333333333333335hours\n"
     ]
    }
   ],
   "source": [
    "minutes = 200\n",
    "hours = minutes/60\n",
    "print(f\"{minutes} is equal to {hours}hours\")"
   ]
  },
  {
   "cell_type": "markdown",
   "id": "454e625b-c517-4ee5-a87c-cb399adb175d",
   "metadata": {},
   "source": [
    "## Author\n",
    "Jilna Jomy"
   ]
  },
  {
   "cell_type": "code",
   "execution_count": null,
   "id": "1f845cad-9916-4b3d-90f2-127a4e3d9558",
   "metadata": {},
   "outputs": [],
   "source": []
  }
 ],
 "metadata": {
  "kernelspec": {
   "display_name": "Python 3 (ipykernel)",
   "language": "python",
   "name": "python3"
  },
  "language_info": {
   "codemirror_mode": {
    "name": "ipython",
    "version": 3
   },
   "file_extension": ".py",
   "mimetype": "text/x-python",
   "name": "python",
   "nbconvert_exporter": "python",
   "pygments_lexer": "ipython3",
   "version": "3.11.7"
  }
 },
 "nbformat": 4,
 "nbformat_minor": 5
}
